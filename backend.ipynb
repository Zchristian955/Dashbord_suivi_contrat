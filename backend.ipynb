{
 "cells": [
  {
   "cell_type": "code",
   "execution_count": 40,
   "id": "0e8b7376-4581-4444-aaaa-305b56755cb1",
   "metadata": {},
   "outputs": [],
   "source": [
    "import numpy as np\n",
    "import pandas as pd\n",
    "import matplotlib.pyplot as plt"
   ]
  },
  {
   "cell_type": "code",
   "execution_count": 41,
   "id": "8505132f",
   "metadata": {},
   "outputs": [
    {
     "name": "stderr",
     "output_type": "stream",
     "text": [
      "c:\\Users\\MSI\\anaconda3\\Lib\\site-packages\\openpyxl\\worksheet\\_read_only.py:81: UserWarning: Conditional Formatting extension is not supported and will be removed\n",
      "  for idx, row in parser.parse():\n",
      "c:\\Users\\MSI\\anaconda3\\Lib\\site-packages\\openpyxl\\worksheet\\_read_only.py:81: UserWarning: Data Validation extension is not supported and will be removed\n",
      "  for idx, row in parser.parse():\n"
     ]
    },
    {
     "data": {
      "text/html": [
       "<div>\n",
       "<style scoped>\n",
       "    .dataframe tbody tr th:only-of-type {\n",
       "        vertical-align: middle;\n",
       "    }\n",
       "\n",
       "    .dataframe tbody tr th {\n",
       "        vertical-align: top;\n",
       "    }\n",
       "\n",
       "    .dataframe thead th {\n",
       "        text-align: right;\n",
       "    }\n",
       "</style>\n",
       "<table border=\"1\" class=\"dataframe\">\n",
       "  <thead>\n",
       "    <tr style=\"text-align: right;\">\n",
       "      <th></th>\n",
       "      <th>Indexe</th>\n",
       "      <th>Nom</th>\n",
       "      <th>Contact du client</th>\n",
       "      <th>Numéro Contrat</th>\n",
       "      <th>Type de client</th>\n",
       "      <th>Date de début</th>\n",
       "      <th>Date de fin</th>\n",
       "      <th>Status</th>\n",
       "      <th>Offres</th>\n",
       "      <th>Departement</th>\n",
       "      <th>Commune</th>\n",
       "      <th>Agent SBIN(Responsable contrat)</th>\n",
       "    </tr>\n",
       "  </thead>\n",
       "  <tbody>\n",
       "    <tr>\n",
       "      <th>0</th>\n",
       "      <td>1</td>\n",
       "      <td>AlphaTech</td>\n",
       "      <td>22940902107</td>\n",
       "      <td>SBIN202300001</td>\n",
       "      <td>Entreprise</td>\n",
       "      <td>01/01/2023</td>\n",
       "      <td>31/12/2023</td>\n",
       "      <td>EXPIRE</td>\n",
       "      <td>FTTH</td>\n",
       "      <td>Atlantique</td>\n",
       "      <td>Natitingou</td>\n",
       "      <td>Ange Yétonde</td>\n",
       "    </tr>\n",
       "    <tr>\n",
       "      <th>1</th>\n",
       "      <td>2</td>\n",
       "      <td>BetaSolutions</td>\n",
       "      <td>22940655177</td>\n",
       "      <td>SBIN202300002</td>\n",
       "      <td>Entreprise</td>\n",
       "      <td>16/01/2023</td>\n",
       "      <td>15/01/2024</td>\n",
       "      <td>EXPIRE</td>\n",
       "      <td>FTTH</td>\n",
       "      <td>Mono</td>\n",
       "      <td>Natitingou</td>\n",
       "      <td>Benoit Agossou</td>\n",
       "    </tr>\n",
       "    <tr>\n",
       "      <th>2</th>\n",
       "      <td>3</td>\n",
       "      <td>Ministère de l'Intérieur</td>\n",
       "      <td>22940109349</td>\n",
       "      <td>SBIN202300003</td>\n",
       "      <td>ETAT</td>\n",
       "      <td>31/01/2023</td>\n",
       "      <td>30/01/2024</td>\n",
       "      <td>EXPIRE</td>\n",
       "      <td>FTTH</td>\n",
       "      <td>Donga</td>\n",
       "      <td>Savalou</td>\n",
       "      <td>Lucien Glele</td>\n",
       "    </tr>\n",
       "    <tr>\n",
       "      <th>3</th>\n",
       "      <td>4</td>\n",
       "      <td>Ministère des Affaires Étrangères</td>\n",
       "      <td>22940439877</td>\n",
       "      <td>SBIN202300004</td>\n",
       "      <td>ETAT</td>\n",
       "      <td>15/02/2023</td>\n",
       "      <td>14/02/2024</td>\n",
       "      <td>EXPIRE</td>\n",
       "      <td>Celtiis Business RNIS</td>\n",
       "      <td>Atlantique</td>\n",
       "      <td>Abomey-Calavi</td>\n",
       "      <td>Ange Yétonde</td>\n",
       "    </tr>\n",
       "    <tr>\n",
       "      <th>4</th>\n",
       "      <td>5</td>\n",
       "      <td>Ministère de la Défense</td>\n",
       "      <td>22940249298</td>\n",
       "      <td>SBIN202300005</td>\n",
       "      <td>ETAT</td>\n",
       "      <td>02/03/2023</td>\n",
       "      <td>29/02/2024</td>\n",
       "      <td>EXPIRE</td>\n",
       "      <td>FTTH</td>\n",
       "      <td>Ouémé</td>\n",
       "      <td>Porto-Novo</td>\n",
       "      <td>Victoire Azon</td>\n",
       "    </tr>\n",
       "  </tbody>\n",
       "</table>\n",
       "</div>"
      ],
      "text/plain": [
       "   Indexe                                Nom  Contact du client  \\\n",
       "0       1                          AlphaTech        22940902107   \n",
       "1       2                      BetaSolutions        22940655177   \n",
       "2       3           Ministère de l'Intérieur        22940109349   \n",
       "3       4  Ministère des Affaires Étrangères        22940439877   \n",
       "4       5            Ministère de la Défense        22940249298   \n",
       "\n",
       "  Numéro Contrat Type de client Date de début Date de fin  Status  \\\n",
       "0  SBIN202300001     Entreprise    01/01/2023  31/12/2023  EXPIRE   \n",
       "1  SBIN202300002     Entreprise    16/01/2023  15/01/2024  EXPIRE   \n",
       "2  SBIN202300003           ETAT    31/01/2023  30/01/2024  EXPIRE   \n",
       "3  SBIN202300004           ETAT    15/02/2023  14/02/2024  EXPIRE   \n",
       "4  SBIN202300005           ETAT    02/03/2023  29/02/2024  EXPIRE   \n",
       "\n",
       "                  Offres Departement        Commune  \\\n",
       "0                   FTTH  Atlantique     Natitingou   \n",
       "1                   FTTH        Mono     Natitingou   \n",
       "2                   FTTH       Donga        Savalou   \n",
       "3  Celtiis Business RNIS  Atlantique  Abomey-Calavi   \n",
       "4                   FTTH       Ouémé     Porto-Novo   \n",
       "\n",
       "  Agent SBIN(Responsable contrat)  \n",
       "0                    Ange Yétonde  \n",
       "1                  Benoit Agossou  \n",
       "2                    Lucien Glele  \n",
       "3                    Ange Yétonde  \n",
       "4                   Victoire Azon  "
      ]
     },
     "execution_count": 41,
     "metadata": {},
     "output_type": "execute_result"
    }
   ],
   "source": [
    "df = pd.read_excel(\"C:/Users/MSI/Documents/My_doc/Stage/Projet_suivi_contrats/test_contrat_VF.xlsx\")\n",
    "df.head()"
   ]
  },
  {
   "cell_type": "code",
   "execution_count": 42,
   "id": "9cc18f84",
   "metadata": {},
   "outputs": [
    {
     "name": "stdout",
     "output_type": "stream",
     "text": [
      "<class 'pandas.core.frame.DataFrame'>\n",
      "RangeIndex: 100 entries, 0 to 99\n",
      "Data columns (total 12 columns):\n",
      " #   Column                           Non-Null Count  Dtype \n",
      "---  ------                           --------------  ----- \n",
      " 0   Indexe                           100 non-null    int64 \n",
      " 1   Nom                              100 non-null    object\n",
      " 2   Contact du client                100 non-null    int64 \n",
      " 3   Numéro Contrat                   100 non-null    object\n",
      " 4   Type de client                   100 non-null    object\n",
      " 5   Date de début                    100 non-null    object\n",
      " 6   Date de fin                      100 non-null    object\n",
      " 7   Status                           100 non-null    object\n",
      " 8   Offres                           100 non-null    object\n",
      " 9   Departement                      100 non-null    object\n",
      " 10  Commune                          100 non-null    object\n",
      " 11  Agent SBIN(Responsable contrat)  100 non-null    object\n",
      "dtypes: int64(2), object(10)\n",
      "memory usage: 9.5+ KB\n"
     ]
    }
   ],
   "source": [
    "\n",
    "df.info()"
   ]
  },
  {
   "cell_type": "markdown",
   "id": "0e5ba325",
   "metadata": {},
   "source": [
    "Tri par mois et par année"
   ]
  },
  {
   "cell_type": "code",
   "execution_count": 43,
   "id": "cab022dd",
   "metadata": {},
   "outputs": [],
   "source": [
    "#conversion des dates dans un format permettant d'extraire le mois et l'année\n",
    "df['Date de début'] = pd.to_datetime(df['Date de début'], format=\"%d/%m/%Y\", errors='coerce')\n",
    "df['Date de fin'] = pd.to_datetime(df['Date de fin'], format=\"%d/%m/%Y\", errors='coerce')\n",
    "\n",
    "#tri par mois\n",
    "def tri_par_mois(mois):\n",
    "    plage = df[(df['Date de fin'].dt.month == mois)]\n",
    "    return plage\n",
    "\n",
    "#tri par année\n",
    "def tri_par_annee(annee):\n",
    "    plage = df[(df['Date de fin'].dt.year == annee)]\n",
    "    return plage\n",
    "\n",
    "#tri par mois annee\n",
    "def tri_par_mois_annee(mois,annee):\n",
    "    plage = df[(df['Date de fin'].dt.year <= annee) & (df['Date de fin'].dt.month <= mois)]\n",
    "    return plage\n"
   ]
  },
  {
   "cell_type": "markdown",
   "id": "5200416d",
   "metadata": {},
   "source": [
    "Tri par contrat"
   ]
  },
  {
   "cell_type": "code",
   "execution_count": 49,
   "id": "cb45543a",
   "metadata": {},
   "outputs": [],
   "source": [
    "def tri_par_contrat(contrat):\n",
    "    plage = df[df['Offres'] == contrat]\n",
    "    return plage\n"
   ]
  },
  {
   "cell_type": "markdown",
   "id": "68d604bc",
   "metadata": {},
   "source": [
    "Recherche"
   ]
  },
  {
   "cell_type": "code",
   "execution_count": 54,
   "id": "9624cb03",
   "metadata": {},
   "outputs": [],
   "source": [
    "#recherche par nom\n",
    "def recherhce_par_nom(nom):\n",
    "    return df[df['Nom'] == nom]\n",
    "\n",
    "#recherche par numéro contrat\n",
    "def recherhce_par_num(num):\n",
    "    return df[df['Numéro Contrat'] == num]\n"
   ]
  },
  {
   "cell_type": "markdown",
   "id": "faaf09fe",
   "metadata": {},
   "source": [
    "Statistiques"
   ]
  },
  {
   "cell_type": "code",
   "execution_count": null,
   "id": "5c8166ad",
   "metadata": {},
   "outputs": [],
   "source": []
  }
 ],
 "metadata": {
  "kernelspec": {
   "display_name": "Python 3 (ipykernel)",
   "language": "python",
   "name": "python3"
  },
  "language_info": {
   "codemirror_mode": {
    "name": "ipython",
    "version": 3
   },
   "file_extension": ".py",
   "mimetype": "text/x-python",
   "name": "python",
   "nbconvert_exporter": "python",
   "pygments_lexer": "ipython3",
   "version": "3.12.4"
  }
 },
 "nbformat": 4,
 "nbformat_minor": 5
}
